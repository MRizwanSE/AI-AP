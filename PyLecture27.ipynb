{
 "cells": [
  {
   "cell_type": "markdown",
   "metadata": {},
   "source": [
    "### Python Object-Oriented Programming (OOP)"
   ]
  },
  {
   "cell_type": "markdown",
   "metadata": {},
   "source": [
    "Common Programming Paradigm is <b>Procedural Programming</b>, which structures a program like a recipe in that it provides a set of steps, in the form of functions and code blocks, that flow sequentially in order to complete a task."
   ]
  },
  {
   "cell_type": "markdown",
   "metadata": {},
   "source": [
    "Python offers itself not only as a popular <b>Scripting Language</b>, but also supports the <b>Object-Oriented Programming</b> paradigm. Four of the key techniques used in Object-Oriented programming are:\n",
    "- Encapsulation \n",
    "- Inheritance \n",
    "- Polymorphism\n",
    "- Abstraction"
   ]
  },
  {
   "cell_type": "markdown",
   "metadata": {},
   "source": [
    "<b>Object-Oriented Programming (OOP)</b> is a method/technique of structuring a program by bundling related <b>properties</b> and <b>behaviors</b> into individual <b>objects</b>."
   ]
  },
  {
   "cell_type": "markdown",
   "metadata": {},
   "source": [
    "Object-Oriented Programming is a **programming paradigm** that provides a means of structuring programs so that properties and behaviors are bundled into individual objects."
   ]
  },
  {
   "cell_type": "markdown",
   "metadata": {},
   "source": [
    "For instance, an object could represent a person with <b>properties</b> like a name, age, and address and <b>behaviors</b> such as walking, talking, breathing, and running. Or it could represent an email with properties like a recipient list, subject, and body and behaviors like adding attachments and sending."
   ]
  },
  {
   "cell_type": "markdown",
   "metadata": {},
   "source": [
    "OOP models real-world entities as software objects that have some data associated with them and can perform certain functions."
   ]
  },
  {
   "cell_type": "markdown",
   "metadata": {},
   "source": [
    "Python is a multi-paradigm programming language. It supports different programming approaches. One of the popular approaches to solve a programming problem is by creating objects. This is known as Object-Oriented Programming (OOP)."
   ]
  },
  {
   "cell_type": "markdown",
   "metadata": {},
   "source": [
    "An object has two characteristics:\n",
    "\n",
    "- Attributes\n",
    "- Behaviors"
   ]
  },
  {
   "cell_type": "markdown",
   "metadata": {},
   "source": [
    "Let's take an example:\n",
    "\n",
    "A person is can be an object, as it has the following properties:\n",
    "\n",
    "- name, age, address as attributes\n",
    "- walking, talking, running as behaviors"
   ]
  },
  {
   "cell_type": "markdown",
   "metadata": {},
   "source": [
    "The concept of OOP in Python focuses on creating reusable code. This concept is also known as DRY (Don't Repeat Yourself)."
   ]
  },
  {
   "cell_type": "markdown",
   "metadata": {},
   "source": [
    "#### Define a Class in Python"
   ]
  },
  {
   "cell_type": "markdown",
   "metadata": {},
   "source": [
    "<b>Primitive</b> data structures—like numbers, strings, and lists—are designed to represent simple pieces of information, such as the cost of an apple, the name of a poem, or your favorite colors, respectively. What if you want to represent something more complex?"
   ]
  },
  {
   "cell_type": "markdown",
   "metadata": {},
   "source": [
    "A great way to make complex type of code more manageable and more maintainable is to use <b>Classes</b>."
   ]
  },
  {
   "cell_type": "markdown",
   "metadata": {},
   "source": [
    "Python Classes Link: https://docs.python.org/3/tutorial/classes.html"
   ]
  },
  {
   "cell_type": "markdown",
   "metadata": {},
   "source": [
    "<b>Classes vs Objects (Instances)</b>"
   ]
  },
  {
   "cell_type": "markdown",
   "metadata": {},
   "source": [
    "Classes are used to create user-defined data structures. Classes define functions called methods, which identify the behaviors and actions that an object created from the class can perform with its data."
   ]
  },
  {
   "cell_type": "markdown",
   "metadata": {},
   "source": [
    "Create a Product class that stores some information about the characteristics and behaviors that an individual product can have."
   ]
  },
  {
   "cell_type": "markdown",
   "metadata": {},
   "source": [
    "A class is a blueprint for how something should be defined. It doesn’t actually contain any data. The Product class specifies that a name and an price are necessary for defining a product, but it doesn’t contain the name or price of any specific product."
   ]
  },
  {
   "cell_type": "markdown",
   "metadata": {},
   "source": [
    "While the class is the blueprint, an instance is an object that is built from a class and contains real data. An instance of the Product class is not a blueprint anymore. It’s an actual product with a name, like Laptop. "
   ]
  },
  {
   "cell_type": "markdown",
   "metadata": {},
   "source": [
    "Put another way, a class is like a form or questionnaire. An instance is like a form that has been filled out with information. Just like many people can fill out the same form with their own unique information, many instances can be created from a single class."
   ]
  },
  {
   "cell_type": "markdown",
   "metadata": {},
   "source": [
    "<b>How to Define a Class</b>"
   ]
  },
  {
   "cell_type": "markdown",
   "metadata": {},
   "source": [
    "A class is a blueprint for the object."
   ]
  },
  {
   "cell_type": "markdown",
   "metadata": {},
   "source": [
    "All class definitions start with the <code>class</code> keyword, which is followed by the name of the class and a colon. Any code that is indented below the class definition is considered part of the class’s body."
   ]
  },
  {
   "cell_type": "markdown",
   "metadata": {},
   "source": [
    "Here’s an example of a Product class:"
   ]
  },
  {
   "cell_type": "code",
   "execution_count": 1,
   "metadata": {},
   "outputs": [],
   "source": [
    "# class Product(object):  # OK\n",
    "#     pass"
   ]
  },
  {
   "cell_type": "code",
   "execution_count": 2,
   "metadata": {},
   "outputs": [],
   "source": [
    "# class Product():        # OK\n",
    "#     pass"
   ]
  },
  {
   "cell_type": "code",
   "execution_count": 3,
   "metadata": {},
   "outputs": [],
   "source": [
    "# class Product: pass     # OK"
   ]
  },
  {
   "cell_type": "code",
   "execution_count": 4,
   "metadata": {},
   "outputs": [],
   "source": [
    "class Product:            # Recommended\n",
    "    pass  "
   ]
  },
  {
   "cell_type": "markdown",
   "metadata": {},
   "source": [
    "This creates a Product class with no attributes or methods."
   ]
  },
  {
   "cell_type": "markdown",
   "metadata": {},
   "source": [
    "The body of the Product class consists of a single statement: the <code>pass</code> keyword. <code>pass</code> is often used as a placeholder indicating where code will eventually go. It allows you to run this code without Python throwing an error."
   ]
  },
  {
   "cell_type": "markdown",
   "metadata": {},
   "source": [
    "<i>Note: Python class names are written in CapitalizedWords notation by convention.</i>"
   ]
  },
  {
   "cell_type": "markdown",
   "metadata": {},
   "source": [
    "<b>Instantiate an Object in Python</b>"
   ]
  },
  {
   "cell_type": "markdown",
   "metadata": {},
   "source": [
    "An instance is a specific object created from a particular class."
   ]
  },
  {
   "cell_type": "markdown",
   "metadata": {},
   "source": [
    "Creating a new object from a class is called <b>instantiating</b> an object. You can instantiate a new Product object by typing the name of the class, followed by opening and closing parentheses:"
   ]
  },
  {
   "cell_type": "code",
   "execution_count": 5,
   "metadata": {},
   "outputs": [
    {
     "data": {
      "text/plain": [
       "<__main__.Product at 0x29b22add370>"
      ]
     },
     "execution_count": 5,
     "metadata": {},
     "output_type": "execute_result"
    }
   ],
   "source": [
    "Product()"
   ]
  },
  {
   "cell_type": "markdown",
   "metadata": {},
   "source": [
    "You now have a new Product object at 0x28fa72eb760. This funny-looking string of letters and numbers is a <b>memory address</b> that indicates where the Product object is stored in your computer’s memory. Note that the address you see on your screen will be different.\n",
    "\n",
    "Now instantiate a second Product object:"
   ]
  },
  {
   "cell_type": "code",
   "execution_count": 6,
   "metadata": {},
   "outputs": [
    {
     "data": {
      "text/plain": [
       "<__main__.Product at 0x29b22af80a0>"
      ]
     },
     "execution_count": 6,
     "metadata": {},
     "output_type": "execute_result"
    }
   ],
   "source": [
    "Product()"
   ]
  },
  {
   "cell_type": "markdown",
   "metadata": {},
   "source": [
    "The new Product instance is located at a different memory address. That’s because it’s an entirely new instance and is completely unique from the first Product object that you instantiated."
   ]
  },
  {
   "cell_type": "markdown",
   "metadata": {},
   "source": [
    "To see this another way, type the following:"
   ]
  },
  {
   "cell_type": "markdown",
   "metadata": {},
   "source": [
    "Now that we have a Product class, let’s create some products!"
   ]
  },
  {
   "cell_type": "code",
   "execution_count": 7,
   "metadata": {},
   "outputs": [],
   "source": [
    "product1 = Product()\n",
    "product2 = Product()"
   ]
  },
  {
   "cell_type": "code",
   "execution_count": 8,
   "metadata": {},
   "outputs": [
    {
     "data": {
      "text/plain": [
       "False"
      ]
     },
     "execution_count": 8,
     "metadata": {},
     "output_type": "execute_result"
    }
   ],
   "source": [
    "product1 == product2"
   ]
  },
  {
   "cell_type": "markdown",
   "metadata": {},
   "source": [
    "In this code, you create two new Product objects and assign them to the variables product1 and product2. When you compare product1 and product2 using the == operator, the result is False. Even though product1 and product2 are both instances of the Product class, they represent two distinct objects in memory."
   ]
  },
  {
   "cell_type": "markdown",
   "metadata": {},
   "source": [
    "<b>Class and Instance Attributes</b>"
   ]
  },
  {
   "cell_type": "markdown",
   "metadata": {},
   "source": [
    "The Product class isn’t very interesting right now, so let’s spruce it up a bit by defining some properties that all Product objects should have. There are a number of properties that we can choose from, including name, price, brand, and breed. To keep things simple, we’ll just use name and price."
   ]
  },
  {
   "cell_type": "markdown",
   "metadata": {},
   "source": [
    "The properties that all Product objects must have are defined in a method called .__init__(). Every time a new Product object is created, .__init__() sets the initial <b>state</b> of the object by assigning the values of the object’s properties. That is, .__init__() initializes each new instance of the class."
   ]
  },
  {
   "cell_type": "markdown",
   "metadata": {},
   "source": [
    "You can give .__init__() any number of parameters, but the first parameter will always be a variable called self. When a new class instance is created, the instance is automatically passed to the self parameter in .__init__() so that new <b>attributes</b> can be defined on the object."
   ]
  },
  {
   "cell_type": "markdown",
   "metadata": {},
   "source": [
    "Let’s update the Product class with an .__init__() method that creates name and price attributes:"
   ]
  },
  {
   "cell_type": "code",
   "execution_count": 9,
   "metadata": {},
   "outputs": [],
   "source": [
    "class Product:\n",
    "    def __init__(self, name, price):  # special method\n",
    "        self.name = name              # instance attribute\n",
    "        self.price = price"
   ]
  },
  {
   "cell_type": "markdown",
   "metadata": {},
   "source": [
    "Notice that the .__init__() method’s signature is indented four spaces. The body of the method is indented by eight spaces. This indentation is vitally important. It tells Python that the .__init__() method belongs to the Product class.\n",
    "\n",
    "In the body of .__init__(), there are two statements using the <b>self</b> variable:\n",
    "- <code>self.name = name</code> creates an attribute called name and assigns to it the value of the name parameter.\n",
    "- <code>self.price = price</code> creates an attribute called price and assigns to it the value of the price parameter.\n",
    "\n",
    "Attributes created in .__init__() are called <b>instance attributes</b>. An instance attribute’s value is specific to a particular instance of the class. All Product objects have a name and an price, but the values for the name and price attributes will vary depending on the Product instance.\n",
    "\n",
    "On the other hand, <b>class attributes</b> are attributes that have the same value for all class instances. You can define a class attribute by assigning a value to a variable name outside of .__init__().\n",
    "\n",
    "For example, the following Product class has a class attribute called brand with the value \"Apple\":"
   ]
  },
  {
   "cell_type": "code",
   "execution_count": 10,
   "metadata": {},
   "outputs": [],
   "source": [
    "class Product: \n",
    "    brand = 'Apple'                       # brand is class attribute\n",
    "    \n",
    "    def __init__(self, name, price):      # constructor or special method or magic method or initializer\n",
    "        self.name = name                  # self.name is instance attribute\n",
    "        self.price = price"
   ]
  },
  {
   "cell_type": "markdown",
   "metadata": {},
   "source": [
    "Class attributes are defined directly beneath the first line of the class name and are indented by four spaces. They must always be assigned an initial value. When an instance of the class is created, class attributes are automatically created and assigned to their initial values.\n",
    "\n",
    "Use class attributes to define properties that should have the same value for every class instance. Use instance attributes for properties that vary from one instance to another."
   ]
  },
  {
   "cell_type": "code",
   "execution_count": 11,
   "metadata": {},
   "outputs": [],
   "source": [
    "# product1 = Product()  # TypeError: __init__() missing 2 required positional arguments: 'name' and 'price'"
   ]
  },
  {
   "cell_type": "code",
   "execution_count": 12,
   "metadata": {},
   "outputs": [],
   "source": [
    "laptop = Product('Laptop', 90000.00)\n",
    "power_bank = Product('Power Bank', 10999.00)"
   ]
  },
  {
   "cell_type": "markdown",
   "metadata": {},
   "source": [
    "This creates two new Product instances — one for a 90000.00 product price named Laptop and one for a 10999.00 product price named Power Bank.\n",
    "\n",
    "The Product class’s .__init__() method has three parameters, so why are only two arguments passed to it in the example?\n",
    "\n",
    "<i>When you instantiate a Product object, Python creates a new instance and passes it to the first parameter of .__init__(). This essentially removes the self parameter, so you only need to worry about the name and price parameters.</i>\n",
    "\n",
    "After you create the Product instances, you can access their instance attributes using <b>dot notation</b>"
   ]
  },
  {
   "cell_type": "code",
   "execution_count": 13,
   "metadata": {},
   "outputs": [
    {
     "name": "stdout",
     "output_type": "stream",
     "text": [
      "Product Info - Name: Laptop, Price: 90000.0, Brand: Apple\n",
      "Product Info - Name: Power Bank, Price: 10999.0, Brand: Apple\n"
     ]
    }
   ],
   "source": [
    "print(f'Product Info - Name: {laptop.name}, Price: {laptop.price}, Brand: {laptop.brand}')\n",
    "print(f'Product Info - Name: {power_bank.name}, Price: {power_bank.price}, Brand: {power_bank.brand}')"
   ]
  },
  {
   "cell_type": "markdown",
   "metadata": {},
   "source": [
    "One of the biggest advantages of using classes to organize data is that instances are guaranteed to have the attributes you expect. All Product instances have brand, name, and price attributes, so you can use those attributes with confidence knowing that they will always return a value.\n",
    "\n",
    "Although the attributes are guaranteed to exist, their values can be changed dynamically:"
   ]
  },
  {
   "cell_type": "code",
   "execution_count": 14,
   "metadata": {},
   "outputs": [],
   "source": [
    "laptop.price = 95000"
   ]
  },
  {
   "cell_type": "markdown",
   "metadata": {},
   "source": [
    "In this example, you change the price attribute of the laptop object to 95000."
   ]
  },
  {
   "cell_type": "code",
   "execution_count": 15,
   "metadata": {},
   "outputs": [
    {
     "name": "stdout",
     "output_type": "stream",
     "text": [
      "Product Info - Name: Laptop, Price: 95000, Brand: Apple\n"
     ]
    }
   ],
   "source": [
    "print(f'Product Info - Name: {laptop.name}, Price: {laptop.price}, Brand: {laptop.brand}')"
   ]
  },
  {
   "cell_type": "code",
   "execution_count": 16,
   "metadata": {},
   "outputs": [],
   "source": [
    "power_bank.brand = 'Redmi'"
   ]
  },
  {
   "cell_type": "markdown",
   "metadata": {},
   "source": [
    "Then you change the brand attribute of the power_bank object to \"Redmi\". "
   ]
  },
  {
   "cell_type": "code",
   "execution_count": 17,
   "metadata": {},
   "outputs": [
    {
     "name": "stdout",
     "output_type": "stream",
     "text": [
      "Product Info - Name: Power Bank, Price: 10999.0, Brand: Redmi\n"
     ]
    }
   ],
   "source": [
    "print(f'Product Info - Name: {power_bank.name}, Price: {power_bank.price}, Brand: {power_bank.brand}')"
   ]
  },
  {
   "cell_type": "markdown",
   "metadata": {},
   "source": [
    "No change for laptop object."
   ]
  },
  {
   "cell_type": "code",
   "execution_count": 18,
   "metadata": {},
   "outputs": [
    {
     "name": "stdout",
     "output_type": "stream",
     "text": [
      "Product Info - Name: Laptop, Price: 95000, Brand: Apple\n"
     ]
    }
   ],
   "source": [
    "print(f'Product Info - Name: {laptop.name}, Price: {laptop.price}, Brand: {laptop.brand}')"
   ]
  },
  {
   "cell_type": "code",
   "execution_count": 19,
   "metadata": {},
   "outputs": [],
   "source": [
    "mobile = Product('Mobile', 70000)"
   ]
  },
  {
   "cell_type": "markdown",
   "metadata": {},
   "source": [
    "No change for mobile new object."
   ]
  },
  {
   "cell_type": "code",
   "execution_count": 20,
   "metadata": {},
   "outputs": [
    {
     "name": "stdout",
     "output_type": "stream",
     "text": [
      "Product Info - Name: Mobile, Price: 70000, Brand: Apple\n"
     ]
    }
   ],
   "source": [
    "print(f'Product Info - Name: {mobile.name}, Price: {mobile.price}, Brand: {mobile.brand}')"
   ]
  },
  {
   "cell_type": "code",
   "execution_count": null,
   "metadata": {},
   "outputs": [],
   "source": []
  },
  {
   "cell_type": "code",
   "execution_count": 21,
   "metadata": {},
   "outputs": [],
   "source": [
    "Product.brand = \"Pakistan\""
   ]
  },
  {
   "cell_type": "code",
   "execution_count": 22,
   "metadata": {},
   "outputs": [
    {
     "name": "stdout",
     "output_type": "stream",
     "text": [
      "Product Info - Name: Laptop, Price: 95000, Brand: Pakistan\n"
     ]
    }
   ],
   "source": [
    "print(f'Product Info - Name: {laptop.name}, Price: {laptop.price}, Brand: {laptop.brand}')"
   ]
  },
  {
   "cell_type": "markdown",
   "metadata": {},
   "source": [
    "No change for power_bank obejct."
   ]
  },
  {
   "cell_type": "code",
   "execution_count": 23,
   "metadata": {},
   "outputs": [
    {
     "name": "stdout",
     "output_type": "stream",
     "text": [
      "Product Info - Name: Power Bank, Price: 10999.0, Brand: Redmi\n"
     ]
    }
   ],
   "source": [
    "print(f'Product Info - Name: {power_bank.name}, Price: {power_bank.price}, Brand: {power_bank.brand}')"
   ]
  },
  {
   "cell_type": "code",
   "execution_count": 24,
   "metadata": {},
   "outputs": [
    {
     "name": "stdout",
     "output_type": "stream",
     "text": [
      "Product Info - Name: Mobile, Price: 70000, Brand: Pakistan\n"
     ]
    }
   ],
   "source": [
    "print(f'Product Info - Name: {mobile.name}, Price: {mobile.price}, Brand: {mobile.brand}')"
   ]
  },
  {
   "cell_type": "markdown",
   "metadata": {},
   "source": [
    "The key takeaway here is that custom objects are mutable by default."
   ]
  },
  {
   "cell_type": "code",
   "execution_count": null,
   "metadata": {},
   "outputs": [],
   "source": []
  },
  {
   "cell_type": "code",
   "execution_count": null,
   "metadata": {},
   "outputs": [],
   "source": []
  },
  {
   "cell_type": "code",
   "execution_count": 25,
   "metadata": {},
   "outputs": [
    {
     "name": "stdout",
     "output_type": "stream",
     "text": [
      "Product Info - Name: Laptop, Price: 95000, Brand: Pakistan\n",
      "Product Info - Name: Power Bank, Price: 10999.0, Brand: Redmi\n",
      "Product Info - Name: Mobile, Price: 70000, Brand: Pakistan\n"
     ]
    }
   ],
   "source": [
    "for pro in (laptop, power_bank, mobile):\n",
    "    print(f'Product Info - Name: {pro.name}, Price: {pro.price}, Brand: {pro.brand}')"
   ]
  },
  {
   "cell_type": "code",
   "execution_count": null,
   "metadata": {},
   "outputs": [],
   "source": []
  },
  {
   "cell_type": "markdown",
   "metadata": {},
   "source": [
    "<b>Instance Methods / Regular Methods</b>"
   ]
  },
  {
   "cell_type": "markdown",
   "metadata": {},
   "source": [
    "Instance methods are functions that are defined inside a class and can only be called from an instance of that class. Just like .__init__(), an instance method’s first parameter is always self."
   ]
  },
  {
   "cell_type": "code",
   "execution_count": 26,
   "metadata": {},
   "outputs": [],
   "source": [
    "class Product: \n",
    "    brand = 'Pakistan'            \n",
    "    \n",
    "    def __init__(self, name, price):  \n",
    "        self.name = name       \n",
    "        self.price = price\n",
    "        \n",
    "    # Instance method or Regular method \n",
    "    def display(self):\n",
    "        return f'Product Info - Name: {self.name}, Price: {self.price}, Brand: {self.brand}'"
   ]
  },
  {
   "cell_type": "code",
   "execution_count": 27,
   "metadata": {},
   "outputs": [],
   "source": [
    "mobile = Product(name='Mobile', price=70000)"
   ]
  },
  {
   "cell_type": "code",
   "execution_count": 28,
   "metadata": {},
   "outputs": [
    {
     "name": "stdout",
     "output_type": "stream",
     "text": [
      "<__main__.Product object at 0x0000029B22B509D0>\n"
     ]
    }
   ],
   "source": [
    "print(mobile)"
   ]
  },
  {
   "cell_type": "code",
   "execution_count": 29,
   "metadata": {},
   "outputs": [
    {
     "name": "stdout",
     "output_type": "stream",
     "text": [
      "Product Info - Name: Mobile, Price: 70000, Brand: Pakistan\n"
     ]
    }
   ],
   "source": [
    "print(mobile.display())"
   ]
  },
  {
   "cell_type": "code",
   "execution_count": null,
   "metadata": {},
   "outputs": [],
   "source": []
  },
  {
   "cell_type": "code",
   "execution_count": 30,
   "metadata": {},
   "outputs": [],
   "source": [
    "class Product: \n",
    "    brand = 'Pakistan'            \n",
    "    \n",
    "    def __init__(self, name, price): # Magic method \n",
    "        self.name = name       \n",
    "        self.price = price\n",
    "        \n",
    "    # Replace display() with __str__() Magic method \n",
    "    def __str__(self):\n",
    "        return f'Product Info - Name: {self.name}, Price: {self.price}, Brand: {self.brand}'"
   ]
  },
  {
   "cell_type": "code",
   "execution_count": 31,
   "metadata": {},
   "outputs": [],
   "source": [
    "mobile = Product(name='Mobile', price=70000)"
   ]
  },
  {
   "cell_type": "code",
   "execution_count": 32,
   "metadata": {},
   "outputs": [
    {
     "name": "stdout",
     "output_type": "stream",
     "text": [
      "Product Info - Name: Mobile, Price: 70000, Brand: Pakistan\n"
     ]
    }
   ],
   "source": [
    "print(mobile)"
   ]
  },
  {
   "cell_type": "markdown",
   "metadata": {},
   "source": [
    "Methods like .__init__() and .__str__() are called dunder methods because they begin and end with double underscores. There are many dunder methods (magic methods) that you can use to customize classes in Python. Understanding dunder methods is an important part of mastering object-oriented programming in Python."
   ]
  },
  {
   "cell_type": "code",
   "execution_count": null,
   "metadata": {},
   "outputs": [],
   "source": []
  },
  {
   "cell_type": "markdown",
   "metadata": {},
   "source": [
    "#### Problem "
   ]
  },
  {
   "cell_type": "code",
   "execution_count": 33,
   "metadata": {},
   "outputs": [],
   "source": [
    "class Enroll:\n",
    "    \n",
    "    courses = []\n",
    "    \n",
    "    def __init__(self, std_name):\n",
    "        self.name = std_name\n",
    "        \n",
    "    def add_course(self, course_name):\n",
    "        self.courses.append(course_name)"
   ]
  },
  {
   "cell_type": "code",
   "execution_count": 34,
   "metadata": {},
   "outputs": [],
   "source": [
    "bilal = Enroll(std_name='Bilal')\n",
    "khalil = Enroll(std_name=\"Khalil\")"
   ]
  },
  {
   "cell_type": "code",
   "execution_count": 35,
   "metadata": {},
   "outputs": [],
   "source": [
    "bilal.add_course('AR')"
   ]
  },
  {
   "cell_type": "code",
   "execution_count": 36,
   "metadata": {},
   "outputs": [],
   "source": [
    "khalil.add_course('NLP')"
   ]
  },
  {
   "cell_type": "code",
   "execution_count": 37,
   "metadata": {},
   "outputs": [],
   "source": [
    "khalil.add_course('Big Data')"
   ]
  },
  {
   "cell_type": "code",
   "execution_count": 38,
   "metadata": {},
   "outputs": [
    {
     "name": "stdout",
     "output_type": "stream",
     "text": [
      "['AR', 'NLP', 'Big Data']\n"
     ]
    }
   ],
   "source": [
    "print(bilal.courses)"
   ]
  },
  {
   "cell_type": "code",
   "execution_count": 39,
   "metadata": {},
   "outputs": [
    {
     "name": "stdout",
     "output_type": "stream",
     "text": [
      "['AR', 'NLP', 'Big Data']\n"
     ]
    }
   ],
   "source": [
    "print(khalil.courses)"
   ]
  },
  {
   "cell_type": "code",
   "execution_count": null,
   "metadata": {},
   "outputs": [],
   "source": []
  },
  {
   "cell_type": "code",
   "execution_count": null,
   "metadata": {},
   "outputs": [],
   "source": []
  },
  {
   "cell_type": "markdown",
   "metadata": {},
   "source": [
    "@mrizwanse"
   ]
  },
  {
   "cell_type": "markdown",
   "metadata": {},
   "source": [
    "### Happy Learning 😊"
   ]
  }
 ],
 "metadata": {
  "kernelspec": {
   "display_name": "Python 3",
   "language": "python",
   "name": "python3"
  },
  "language_info": {
   "codemirror_mode": {
    "name": "ipython",
    "version": 3
   },
   "file_extension": ".py",
   "mimetype": "text/x-python",
   "name": "python",
   "nbconvert_exporter": "python",
   "pygments_lexer": "ipython3",
   "version": "3.8.3"
  }
 },
 "nbformat": 4,
 "nbformat_minor": 4
}
