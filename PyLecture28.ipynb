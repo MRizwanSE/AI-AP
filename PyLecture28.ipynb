{
 "cells": [
  {
   "cell_type": "markdown",
   "metadata": {},
   "source": [
    "### Python Object-Oriented Programming (OOP) "
   ]
  },
  {
   "cell_type": "markdown",
   "metadata": {},
   "source": [
    "#### PyOOP Problem 1 - Solution "
   ]
  },
  {
   "cell_type": "code",
   "execution_count": 1,
   "metadata": {},
   "outputs": [],
   "source": [
    "class Enroll:\n",
    "    \n",
    "    def __init__(self, std_name):\n",
    "        self.name = std_name\n",
    "        self.courses = []\n",
    "        \n",
    "    def add_course(self, course_name):\n",
    "        self.courses.append(course_name)"
   ]
  },
  {
   "cell_type": "code",
   "execution_count": 2,
   "metadata": {},
   "outputs": [],
   "source": [
    "bilal = Enroll(std_name='Bilal')\n",
    "khalil = Enroll(std_name=\"Khalil\")"
   ]
  },
  {
   "cell_type": "code",
   "execution_count": 3,
   "metadata": {},
   "outputs": [],
   "source": [
    "bilal.add_course('AR')"
   ]
  },
  {
   "cell_type": "code",
   "execution_count": 4,
   "metadata": {},
   "outputs": [],
   "source": [
    "khalil.add_course('NLP')"
   ]
  },
  {
   "cell_type": "code",
   "execution_count": 5,
   "metadata": {},
   "outputs": [],
   "source": [
    "khalil.add_course('Big Data')"
   ]
  },
  {
   "cell_type": "code",
   "execution_count": 6,
   "metadata": {},
   "outputs": [
    {
     "name": "stdout",
     "output_type": "stream",
     "text": [
      "['AR']\n"
     ]
    }
   ],
   "source": [
    "print(bilal.courses)"
   ]
  },
  {
   "cell_type": "code",
   "execution_count": 7,
   "metadata": {},
   "outputs": [
    {
     "name": "stdout",
     "output_type": "stream",
     "text": [
      "['NLP', 'Big Data']\n"
     ]
    }
   ],
   "source": [
    "print(khalil.courses)"
   ]
  },
  {
   "cell_type": "code",
   "execution_count": null,
   "metadata": {},
   "outputs": [],
   "source": []
  },
  {
   "cell_type": "markdown",
   "metadata": {},
   "source": [
    "#### PyOOP Self Task 1  "
   ]
  },
  {
   "cell_type": "markdown",
   "metadata": {},
   "source": [
    "For this task, create a bank Account class that has two attributes:"
   ]
  },
  {
   "cell_type": "markdown",
   "metadata": {},
   "source": [
    "- owner\n",
    "- balance"
   ]
  },
  {
   "cell_type": "markdown",
   "metadata": {},
   "source": [
    "and two methods:"
   ]
  },
  {
   "cell_type": "markdown",
   "metadata": {},
   "source": [
    "- display()\n",
    "- deposit()\n",
    "- withdraw()"
   ]
  },
  {
   "cell_type": "markdown",
   "metadata": {},
   "source": [
    "As an added requirement, withdrawals may not exceed the available balance.\n",
    "\n",
    "Instantiate your class, make several deposits, withdrawals and display, and test to make sure the account can't be overdrawn."
   ]
  },
  {
   "cell_type": "code",
   "execution_count": 8,
   "metadata": {},
   "outputs": [],
   "source": [
    "class Account:\n",
    "    pass"
   ]
  },
  {
   "cell_type": "code",
   "execution_count": 9,
   "metadata": {},
   "outputs": [],
   "source": [
    "# 1: Instantiate the class\n",
    "bilal_acc = Account('Bilal', 40000)"
   ]
  },
  {
   "cell_type": "code",
   "execution_count": 10,
   "metadata": {},
   "outputs": [
    {
     "name": "stdout",
     "output_type": "stream",
     "text": [
      "Account owner: Bilal \n",
      "Account balance: 40000\n"
     ]
    }
   ],
   "source": [
    "# 2: Print the info \n",
    "print(bilal_acc.display())"
   ]
  },
  {
   "cell_type": "code",
   "execution_count": 11,
   "metadata": {},
   "outputs": [
    {
     "name": "stdout",
     "output_type": "stream",
     "text": [
      "Bilal\n"
     ]
    }
   ],
   "source": [
    "# 3: Show the account owner attribute\n",
    "print(bilal_acc.owner)"
   ]
  },
  {
   "cell_type": "code",
   "execution_count": 12,
   "metadata": {},
   "outputs": [
    {
     "name": "stdout",
     "output_type": "stream",
     "text": [
      "40000\n"
     ]
    }
   ],
   "source": [
    "# 4: Show the account balance attribute\n",
    "print(bilal_acc.balance)"
   ]
  },
  {
   "cell_type": "code",
   "execution_count": 13,
   "metadata": {},
   "outputs": [
    {
     "name": "stdout",
     "output_type": "stream",
     "text": [
      "Deposit Accepted\n"
     ]
    }
   ],
   "source": [
    "# 5: Make a series of deposits and withdrawals\n",
    "print(bilal_acc.deposit(20000))"
   ]
  },
  {
   "cell_type": "code",
   "execution_count": 14,
   "metadata": {},
   "outputs": [
    {
     "name": "stdout",
     "output_type": "stream",
     "text": [
      "Withdrawal Accepted\n"
     ]
    }
   ],
   "source": [
    "print(bilal_acc.withdraw(15000))"
   ]
  },
  {
   "cell_type": "code",
   "execution_count": 15,
   "metadata": {},
   "outputs": [
    {
     "name": "stdout",
     "output_type": "stream",
     "text": [
      "Account owner: Bilal \n",
      "Account balance: 45000\n"
     ]
    }
   ],
   "source": [
    "# 6: Print the info \n",
    "print(bilal_acc.display())"
   ]
  },
  {
   "cell_type": "code",
   "execution_count": 16,
   "metadata": {},
   "outputs": [
    {
     "name": "stdout",
     "output_type": "stream",
     "text": [
      "Not Sufficient Balance!\n"
     ]
    }
   ],
   "source": [
    "# 7: Make a withdrawal that exceeds the available balance\n",
    "print(bilal_acc.withdraw(50000))"
   ]
  },
  {
   "cell_type": "code",
   "execution_count": 17,
   "metadata": {},
   "outputs": [],
   "source": [
    "# 8: Instantiate the class\n",
    "ahmad_acc = Account('Ahmad', 70000)"
   ]
  },
  {
   "cell_type": "code",
   "execution_count": null,
   "metadata": {},
   "outputs": [],
   "source": []
  },
  {
   "cell_type": "markdown",
   "metadata": {},
   "source": [
    "#### PyOOP Self Task 1  - Solution"
   ]
  },
  {
   "cell_type": "code",
   "execution_count": 18,
   "metadata": {},
   "outputs": [],
   "source": [
    "class Account:\n",
    "    \n",
    "    # constructor or magic method or special method or initializer\n",
    "    def __init__(self, owner, balance=0):\n",
    "        # instance attributes\n",
    "        self.owner = owner                  \n",
    "        self.balance = balance\n",
    "        \n",
    "    # instance method 1 \n",
    "    def display(self):\n",
    "        return f'Account owner: {self.owner} \\nAccount balance: {self.balance}'\n",
    "        \n",
    "    # instance method 2\n",
    "    def deposit(self, dep_amt):\n",
    "        self.balance += dep_amt\n",
    "        return 'Deposit Accepted'\n",
    "        \n",
    "    # instance method 3\n",
    "    def withdraw(self, wd_amt):\n",
    "        if self.balance >= wd_amt:\n",
    "            self.balance -= wd_amt\n",
    "            return 'Withdrawal Accepted'\n",
    "        else:\n",
    "            return 'Not Sufficient Balance!'"
   ]
  },
  {
   "cell_type": "code",
   "execution_count": 19,
   "metadata": {},
   "outputs": [],
   "source": [
    "# 1: Instantiate the class\n",
    "bilal_acc = Account('Bilal', 40000)"
   ]
  },
  {
   "cell_type": "code",
   "execution_count": 20,
   "metadata": {},
   "outputs": [
    {
     "name": "stdout",
     "output_type": "stream",
     "text": [
      "Account owner: Bilal \n",
      "Account balance: 40000\n"
     ]
    }
   ],
   "source": [
    "# 2: Print the info \n",
    "print(bilal_acc.display())"
   ]
  },
  {
   "cell_type": "code",
   "execution_count": 21,
   "metadata": {},
   "outputs": [
    {
     "name": "stdout",
     "output_type": "stream",
     "text": [
      "Bilal\n"
     ]
    }
   ],
   "source": [
    "# 3: Show the account owner attribute\n",
    "print(bilal_acc.owner)"
   ]
  },
  {
   "cell_type": "code",
   "execution_count": 22,
   "metadata": {},
   "outputs": [
    {
     "name": "stdout",
     "output_type": "stream",
     "text": [
      "40000\n"
     ]
    }
   ],
   "source": [
    "# 4: Show the account balance attribute\n",
    "print(bilal_acc.balance)"
   ]
  },
  {
   "cell_type": "code",
   "execution_count": 23,
   "metadata": {},
   "outputs": [
    {
     "name": "stdout",
     "output_type": "stream",
     "text": [
      "Deposit Accepted\n"
     ]
    }
   ],
   "source": [
    "# 5: Make a series of deposits and withdrawals\n",
    "print(bilal_acc.deposit(20000))"
   ]
  },
  {
   "cell_type": "code",
   "execution_count": 24,
   "metadata": {},
   "outputs": [
    {
     "name": "stdout",
     "output_type": "stream",
     "text": [
      "Withdrawal Accepted\n"
     ]
    }
   ],
   "source": [
    "print(bilal_acc.withdraw(15000))"
   ]
  },
  {
   "cell_type": "code",
   "execution_count": 25,
   "metadata": {},
   "outputs": [
    {
     "name": "stdout",
     "output_type": "stream",
     "text": [
      "Account owner: Bilal \n",
      "Account balance: 45000\n"
     ]
    }
   ],
   "source": [
    "# 6: Print the info \n",
    "print(bilal_acc.display())"
   ]
  },
  {
   "cell_type": "code",
   "execution_count": 26,
   "metadata": {},
   "outputs": [
    {
     "name": "stdout",
     "output_type": "stream",
     "text": [
      "Not Sufficient Balance!\n"
     ]
    }
   ],
   "source": [
    "# 7: Make a withdrawal that exceeds the available balance\n",
    "print(bilal_acc.withdraw(50000))"
   ]
  },
  {
   "cell_type": "code",
   "execution_count": 27,
   "metadata": {},
   "outputs": [],
   "source": [
    "# 8: Instantiate the class\n",
    "ahmad_acc = Account('Ahmad', 70000)"
   ]
  },
  {
   "cell_type": "code",
   "execution_count": null,
   "metadata": {},
   "outputs": [],
   "source": []
  },
  {
   "cell_type": "markdown",
   "metadata": {},
   "source": [
    "### Python Object-Oriented Programming (OOP)"
   ]
  },
  {
   "cell_type": "markdown",
   "metadata": {},
   "source": [
    "Object-Oriented Programming (OOP) is a programming paradigm based on the concept of \"objects\". OOP create models based on the real world."
   ]
  },
  {
   "cell_type": "markdown",
   "metadata": {},
   "source": [
    "OOP promotes greater flexibility and maintainability in programming and is widely popular in large-scale software engineering."
   ]
  },
  {
   "cell_type": "markdown",
   "metadata": {},
   "source": [
    "Because OOP strongly emphasizes modularity, object-oriented code is simpler to develop and easier to understand later on. Object-oriented code promotes more direct analysis, coding, and understanding of complex situations and procedures than less modular programming methods."
   ]
  },
  {
   "cell_type": "markdown",
   "metadata": {},
   "source": [
    "OOP uses several techniques from previously established paradigms, including <b>encapsulation</b>, <b>inheritance</b>, polymorphism and abstraction."
   ]
  },
  {
   "cell_type": "markdown",
   "metadata": {},
   "source": [
    "<b>Pillars of OOP or OOP Techniques or Principles of OOP</b>\n",
    "\n",
    "Python provides full support for object-oriented programming including encapsulation, inheritance, polymorphism and abstraction."
   ]
  },
  {
   "cell_type": "markdown",
   "metadata": {},
   "source": [
    "### Python Object-Oriented Programming (OOP) - Encapsulation"
   ]
  },
  {
   "cell_type": "markdown",
   "metadata": {},
   "source": [
    "Encapsulation also known as data-hiding or information-hiding."
   ]
  },
  {
   "cell_type": "markdown",
   "metadata": {},
   "source": [
    "Encapsulation is sometimes referred to as the first pillar or principle of object-oriented programming."
   ]
  },
  {
   "cell_type": "markdown",
   "metadata": {},
   "source": [
    "Encapsulation allows the programmer to hide the important/internal/implementation details from users."
   ]
  },
  {
   "cell_type": "markdown",
   "metadata": {},
   "source": [
    "Encapsulation is a technique used to protect the data/information in an object from another object."
   ]
  },
  {
   "cell_type": "markdown",
   "metadata": {},
   "source": [
    "<b>To achieve Encapsulation in Python</b>\n",
    "- Access Modifiers ( _ or __ )\n",
    "- Accessor Methods or Getter and Setter Methods \n",
    "- Properties or Python Descriptors in Properties"
   ]
  },
  {
   "cell_type": "markdown",
   "metadata": {},
   "source": [
    "<b>Python Access Modifiers ( _ or __ )</b>"
   ]
  },
  {
   "cell_type": "code",
   "execution_count": 28,
   "metadata": {},
   "outputs": [],
   "source": [
    "# name   - Public:     Access is not restricted.\n",
    "# _name  - Protected:  Members can be accessed only by code in the same class, \n",
    "#                      or in a class that is derived from that class.\n",
    "# __name - Private:    Members can be accessed only by code in the same class"
   ]
  },
  {
   "cell_type": "markdown",
   "metadata": {},
   "source": [
    "Using OOP in Python, we can restrict access to <b>methods</b> and <b>variables</b>. This prevents data from direct modification which is called <b>encapsulation</b>. In Python, we denote private attributes using underscore as the prefix double <code>__</code>."
   ]
  },
  {
   "cell_type": "markdown",
   "metadata": {},
   "source": [
    "Link: https://docs.python.org/3/tutorial/classes.html#private-variables"
   ]
  },
  {
   "cell_type": "markdown",
   "metadata": {},
   "source": [
    "<b>Example</b>"
   ]
  },
  {
   "cell_type": "code",
   "execution_count": 29,
   "metadata": {},
   "outputs": [],
   "source": [
    "class Product: \n",
    "    \n",
    "    def __init__(self, pro_id):  # constructor or special method\n",
    "        self.id = pro_id         # public instance attribute "
   ]
  },
  {
   "cell_type": "code",
   "execution_count": 30,
   "metadata": {},
   "outputs": [],
   "source": [
    "product1 = Product(-5)  # Problem --- Id must be between 1 and 100"
   ]
  },
  {
   "cell_type": "code",
   "execution_count": 31,
   "metadata": {},
   "outputs": [
    {
     "data": {
      "text/plain": [
       "-5"
      ]
     },
     "execution_count": 31,
     "metadata": {},
     "output_type": "execute_result"
    }
   ],
   "source": [
    "product1.id"
   ]
  },
  {
   "cell_type": "code",
   "execution_count": 32,
   "metadata": {},
   "outputs": [],
   "source": [
    "product1.id = -10       # Problem "
   ]
  },
  {
   "cell_type": "code",
   "execution_count": 33,
   "metadata": {},
   "outputs": [
    {
     "data": {
      "text/plain": [
       "-10"
      ]
     },
     "execution_count": 33,
     "metadata": {},
     "output_type": "execute_result"
    }
   ],
   "source": [
    "product1.id"
   ]
  },
  {
   "cell_type": "code",
   "execution_count": null,
   "metadata": {},
   "outputs": [],
   "source": []
  },
  {
   "cell_type": "code",
   "execution_count": 34,
   "metadata": {},
   "outputs": [],
   "source": [
    "class Product: \n",
    "    \n",
    "    def __init__(self, pro_id):    # constructor or special method\n",
    "        self.__id = pro_id         # private instance attribute --- Data or Attribute Encapsulation"
   ]
  },
  {
   "cell_type": "code",
   "execution_count": 35,
   "metadata": {},
   "outputs": [],
   "source": [
    "product2 = Product(-5)  # Problem --- Id must be between 1 and 100"
   ]
  },
  {
   "cell_type": "code",
   "execution_count": 36,
   "metadata": {},
   "outputs": [],
   "source": [
    "# product2.__id         # AttributeError: 'Product' object has no attribute '__id'"
   ]
  },
  {
   "cell_type": "code",
   "execution_count": null,
   "metadata": {},
   "outputs": [],
   "source": []
  },
  {
   "cell_type": "markdown",
   "metadata": {},
   "source": [
    "<b>Python Attribute Access using Getter and Setter Methods</b>"
   ]
  },
  {
   "cell_type": "code",
   "execution_count": 37,
   "metadata": {},
   "outputs": [],
   "source": [
    "# Data Encapsulation using Getter & Setter custom methods  "
   ]
  },
  {
   "cell_type": "code",
   "execution_count": 38,
   "metadata": {},
   "outputs": [],
   "source": [
    "class Product: \n",
    "    \n",
    "    def __init__(self, pro_id):    # constructor or special method\n",
    "        self.__id = None           # private instance attribute\n",
    "        self.set_id(pro_id)        # invoking set method \n",
    "        \n",
    "    # public get method \n",
    "    def get_id(self):\n",
    "        return self.__id           # get value \n",
    "    \n",
    "    # public set method \n",
    "    def set_id(self, value):\n",
    "        if not isinstance(value, int):\n",
    "            raise TypeError('Id must be Integer')\n",
    "        elif value <= 0 or value > 100:\n",
    "            raise ValueError(\"Id must be between 1 and 100\")\n",
    "        self.__id = value          # set value "
   ]
  },
  {
   "cell_type": "code",
   "execution_count": 39,
   "metadata": {},
   "outputs": [],
   "source": [
    "# product3 = Product(pro_id=\"5\")   # set  --- TypeError: Id must be Integer"
   ]
  },
  {
   "cell_type": "code",
   "execution_count": 40,
   "metadata": {},
   "outputs": [],
   "source": [
    "# product3 = Product(pro_id=-5)    # set  --- ValueError: Id must be between 1 and 100"
   ]
  },
  {
   "cell_type": "code",
   "execution_count": 41,
   "metadata": {},
   "outputs": [],
   "source": [
    "product3 = Product(pro_id=5)       # set "
   ]
  },
  {
   "cell_type": "code",
   "execution_count": 42,
   "metadata": {},
   "outputs": [
    {
     "data": {
      "text/plain": [
       "5"
      ]
     },
     "execution_count": 42,
     "metadata": {},
     "output_type": "execute_result"
    }
   ],
   "source": [
    "product3.get_id()                  # get "
   ]
  },
  {
   "cell_type": "code",
   "execution_count": 43,
   "metadata": {},
   "outputs": [],
   "source": [
    "# product3.set_id(pro_id=-20)      # set --- ValueError: Id must be between 1 and 100"
   ]
  },
  {
   "cell_type": "code",
   "execution_count": 44,
   "metadata": {},
   "outputs": [],
   "source": [
    "product3.set_id(20)                # set "
   ]
  },
  {
   "cell_type": "code",
   "execution_count": 45,
   "metadata": {},
   "outputs": [
    {
     "data": {
      "text/plain": [
       "20"
      ]
     },
     "execution_count": 45,
     "metadata": {},
     "output_type": "execute_result"
    }
   ],
   "source": [
    "product3.get_id()                  # get "
   ]
  },
  {
   "cell_type": "code",
   "execution_count": null,
   "metadata": {},
   "outputs": [],
   "source": []
  },
  {
   "cell_type": "code",
   "execution_count": 46,
   "metadata": {},
   "outputs": [
    {
     "name": "stdout",
     "output_type": "stream",
     "text": [
      "Id must be between 1 and 100\n"
     ]
    }
   ],
   "source": [
    "try:\n",
    "    product3.set_id(-10)                  # set\n",
    "except (TypeError, ValueError) as err:\n",
    "    print(err)\n",
    "else:\n",
    "    print(product3.get_id())              # get "
   ]
  },
  {
   "cell_type": "code",
   "execution_count": null,
   "metadata": {},
   "outputs": [],
   "source": []
  },
  {
   "cell_type": "markdown",
   "metadata": {},
   "source": [
    "<b>Python Properties or Python Descriptors in Properties</b>"
   ]
  },
  {
   "cell_type": "code",
   "execution_count": 47,
   "metadata": {},
   "outputs": [],
   "source": [
    "# Data Encapsulation using Properties  "
   ]
  },
  {
   "cell_type": "markdown",
   "metadata": {},
   "source": [
    "The <code>property()</code> construct returns the property attribute."
   ]
  },
  {
   "cell_type": "markdown",
   "metadata": {},
   "source": [
    "The syntax of <code>property()</code> is:\n",
    "    \n",
    "<code>property(fget=None, fset=None, fdel=None, doc=None)</code>"
   ]
  },
  {
   "cell_type": "markdown",
   "metadata": {},
   "source": [
    "<b>property() Parameters</b>\n",
    "\n",
    "The <code>property()</code> takes four optional parameters:\n",
    "\n",
    "- fget (optional) - Function for getting the attribute value. Defaults to <code>None</code>.\n",
    "- fset (optional) - Function for setting the attribute value. Defaults to <code>None</code>.\n",
    "- fdel (optional) - Function for deleting the attribute value. Defaults to <code>None</code>.\n",
    "- doc (optional) - A string that contains the documentation (docstring) for the attribute. Defaults to <code>None</code>."
   ]
  },
  {
   "cell_type": "code",
   "execution_count": 48,
   "metadata": {},
   "outputs": [],
   "source": [
    "class Product: \n",
    "    \n",
    "    def __init__(self, pro_id):    # constructor or special method\n",
    "        self.__id = None           # private instance attribute\n",
    "        self.product_id = pro_id   # invoking set method using property \n",
    "        \n",
    "    # private get method \n",
    "    def __get_id(self):            # method encapsulation\n",
    "        return self.__id           # get value \n",
    "    \n",
    "    # private set method \n",
    "    def __set_id(self, value):\n",
    "        if not isinstance(value, int):\n",
    "            raise TypeError('Id must be Integer')\n",
    "        elif value <= 0 or value > 100:\n",
    "            raise ValueError(\"Id must be between 1 and 100\")\n",
    "        self.__id = value          # set value \n",
    "        \n",
    "    # public property \n",
    "    product_id = property(fget=__get_id, fset=__set_id)"
   ]
  },
  {
   "cell_type": "code",
   "execution_count": 49,
   "metadata": {},
   "outputs": [
    {
     "name": "stdout",
     "output_type": "stream",
     "text": [
      "Id must be Integer\n"
     ]
    }
   ],
   "source": [
    "try:\n",
    "    product4 = Product(pro_id=\"10\")       # set \n",
    "    # product4.product_id = 20            # set\n",
    "except (TypeError, ValueError) as err:\n",
    "    print(err)\n",
    "else:\n",
    "    print(product4.product_id)            # get "
   ]
  },
  {
   "cell_type": "code",
   "execution_count": null,
   "metadata": {},
   "outputs": [],
   "source": []
  },
  {
   "cell_type": "markdown",
   "metadata": {},
   "source": [
    "Python programming provides us with a built-in <code>@property</code> decorator which makes usage of getter and setters much easier in Object-Oriented Programming."
   ]
  },
  {
   "cell_type": "code",
   "execution_count": 50,
   "metadata": {},
   "outputs": [],
   "source": [
    "class Product: \n",
    "    \n",
    "    def __init__(self, pro_id):    # constructor or special method\n",
    "        self.__id = None           # private instance attribute\n",
    "        self.product_id = pro_id   # invoking set property \n",
    "        \n",
    "    @property      \n",
    "    def product_id(self):          # public get property            \n",
    "        return self.__id           # get value \n",
    "    \n",
    "    @product_id.setter\n",
    "    def product_id(self, value):   # public set property \n",
    "        if not isinstance(value, int):\n",
    "            raise TypeError('Id must be Integer')\n",
    "        elif value <= 0 or value > 100:\n",
    "            raise ValueError(\"Id must be between 1 and 100\")\n",
    "        self.__id = value          # set value "
   ]
  },
  {
   "cell_type": "code",
   "execution_count": 51,
   "metadata": {},
   "outputs": [
    {
     "name": "stdout",
     "output_type": "stream",
     "text": [
      "Id must be between 1 and 100\n"
     ]
    }
   ],
   "source": [
    "try:\n",
    "    product5 = Product(pro_id=101)        # set \n",
    "    # product5.product_id = 20            # set\n",
    "except (TypeError, ValueError) as err:\n",
    "    print(err)\n",
    "else:\n",
    "    print(product5.product_id)            # get "
   ]
  },
  {
   "cell_type": "code",
   "execution_count": null,
   "metadata": {},
   "outputs": [],
   "source": []
  },
  {
   "cell_type": "markdown",
   "metadata": {},
   "source": [
    "<b>PyOOP Task</b>"
   ]
  },
  {
   "cell_type": "code",
   "execution_count": 52,
   "metadata": {},
   "outputs": [],
   "source": [
    "class User: \n",
    "\n",
    "    def __init__(self, user_name=\"\"):   \n",
    "        self.user_name = user_name  \n",
    "        \n",
    "    @property\n",
    "    def user_name(self):\n",
    "        return self.__username\n",
    "\n",
    "    @user_name.setter\n",
    "    def user_name(self, name):\n",
    "        for ch in name:\n",
    "            if ch.isdigit():\n",
    "                print(\"Invalid Name\")\n",
    "                break\n",
    "        else:\n",
    "            self.__username = name "
   ]
  },
  {
   "cell_type": "code",
   "execution_count": 53,
   "metadata": {},
   "outputs": [],
   "source": [
    "user1 = User(\"Rizwan\")"
   ]
  },
  {
   "cell_type": "code",
   "execution_count": 54,
   "metadata": {},
   "outputs": [
    {
     "name": "stdout",
     "output_type": "stream",
     "text": [
      "Rizwan\n"
     ]
    }
   ],
   "source": [
    "print(user1.user_name)"
   ]
  },
  {
   "cell_type": "code",
   "execution_count": 55,
   "metadata": {},
   "outputs": [],
   "source": [
    "user1.user_name = \"Ahmad\""
   ]
  },
  {
   "cell_type": "code",
   "execution_count": 56,
   "metadata": {},
   "outputs": [
    {
     "name": "stdout",
     "output_type": "stream",
     "text": [
      "Ahmad\n"
     ]
    }
   ],
   "source": [
    "print(user1.user_name)"
   ]
  },
  {
   "cell_type": "code",
   "execution_count": null,
   "metadata": {},
   "outputs": [],
   "source": []
  },
  {
   "cell_type": "markdown",
   "metadata": {},
   "source": [
    "### Python Object-Oriented Programming (OOP) - Inheritance"
   ]
  },
  {
   "cell_type": "markdown",
   "metadata": {},
   "source": [
    "Inheritance also known as <b>is-a</b> or <b>parent-child</b> relationship."
   ]
  },
  {
   "cell_type": "markdown",
   "metadata": {},
   "source": [
    "Inheritance is an essential part of OOP. Its big payoff is that it permits code reusability."
   ]
  },
  {
   "cell_type": "markdown",
   "metadata": {},
   "source": [
    "Inheritance enables you to create new classes that reuse, extend, and modify the behaviour that is defined in other classes."
   ]
  },
  {
   "cell_type": "markdown",
   "metadata": {},
   "source": [
    "The class whose members are inherited is called the base-class, and the class that inherits those members is called the derived-class."
   ]
  },
  {
   "cell_type": "markdown",
   "metadata": {},
   "source": [
    "\"Inheritance describes the ability to create new classes based on an existing class\"."
   ]
  },
  {
   "cell_type": "markdown",
   "metadata": {},
   "source": [
    "<b>Inheritance</b> models what is called an <b>is a</b> relationship. This means that when you have a Derived class that inherits from a Base class, you created a relationship where Derived <b>is a</b> specialized version of Base."
   ]
  },
  {
   "cell_type": "markdown",
   "metadata": {},
   "source": [
    "<code>\n",
    "Base class\n",
    "    ^\n",
    "    |\n",
    " extends\n",
    "    |\n",
    "Derived class\n",
    "</code>"
   ]
  },
  {
   "cell_type": "markdown",
   "metadata": {},
   "source": [
    "Example - Person is a Student"
   ]
  },
  {
   "cell_type": "markdown",
   "metadata": {},
   "source": [
    "<b>Inheritance</b> is the process by which one class takes on the attributes and methods of another. Newly formed classes are called <b>child classes or derived or sub classes</b>, and the classes that child classes are derived from are called <b>parent classes or super or base classes</b>."
   ]
  },
  {
   "cell_type": "markdown",
   "metadata": {},
   "source": [
    "Child classes can override or extend the attributes and methods of parent classes. In other words, child classes inherit all of the parent’s attributes and methods but can also specify attributes and methods that are unique to themselves.\n",
    "\n",
    "You may have inherited your hair color from your mother. It’s an attribute you were born with. Let’s say you decide to color your hair purple. Assuming your mother doesn’t have purple hair, you’ve just <b>overridden</b> the hair color attribute that you inherited from your mom.\n",
    "\n",
    "You also inherit, in a sense, your language from your parents. If your parents speak Urdu, then you’ll also speak Urdu. Now imagine you decide to learn a second language, like English. In this case you’ve <b>extended</b> your attributes because you’ve added an attribute that your parents don’t have."
   ]
  },
  {
   "cell_type": "markdown",
   "metadata": {},
   "source": [
    "<b>Types of Inheritance in Python</b>\n",
    "\n",
    "- Multilevel Inheritance\n",
    "- Multiple Inheritance"
   ]
  },
  {
   "cell_type": "markdown",
   "metadata": {},
   "source": [
    "<b>Python Multilevel Inheritance</b>"
   ]
  },
  {
   "cell_type": "markdown",
   "metadata": {},
   "source": [
    "In multilevel inheritance, features of the base class and the derived class are inherited into the new derived class."
   ]
  },
  {
   "cell_type": "code",
   "execution_count": 57,
   "metadata": {},
   "outputs": [],
   "source": [
    "class A:\n",
    "    pass"
   ]
  },
  {
   "cell_type": "code",
   "execution_count": 58,
   "metadata": {},
   "outputs": [],
   "source": [
    "class B(A):\n",
    "    pass"
   ]
  },
  {
   "cell_type": "code",
   "execution_count": 59,
   "metadata": {},
   "outputs": [],
   "source": [
    "class C(A):\n",
    "    pass"
   ]
  },
  {
   "cell_type": "code",
   "execution_count": 60,
   "metadata": {},
   "outputs": [],
   "source": [
    "class D(B):\n",
    "    pass"
   ]
  },
  {
   "cell_type": "code",
   "execution_count": null,
   "metadata": {},
   "outputs": [],
   "source": []
  },
  {
   "cell_type": "code",
   "execution_count": 61,
   "metadata": {},
   "outputs": [],
   "source": [
    "class Person(object):\n",
    "    pass"
   ]
  },
  {
   "cell_type": "code",
   "execution_count": 62,
   "metadata": {},
   "outputs": [],
   "source": [
    "class Student(Person):\n",
    "    pass"
   ]
  },
  {
   "cell_type": "code",
   "execution_count": null,
   "metadata": {},
   "outputs": [],
   "source": []
  },
  {
   "cell_type": "code",
   "execution_count": 63,
   "metadata": {},
   "outputs": [],
   "source": [
    "class Person:\n",
    "    pass"
   ]
  },
  {
   "cell_type": "code",
   "execution_count": 64,
   "metadata": {},
   "outputs": [],
   "source": [
    "class Student(Person):\n",
    "    pass"
   ]
  },
  {
   "cell_type": "code",
   "execution_count": null,
   "metadata": {},
   "outputs": [],
   "source": []
  },
  {
   "cell_type": "code",
   "execution_count": 65,
   "metadata": {},
   "outputs": [],
   "source": [
    "class Person:\n",
    "    \n",
    "    def __init__(self):\n",
    "        print(\"person class constructor calling\")"
   ]
  },
  {
   "cell_type": "code",
   "execution_count": 66,
   "metadata": {},
   "outputs": [],
   "source": [
    "class Student(Person):\n",
    "    pass"
   ]
  },
  {
   "cell_type": "code",
   "execution_count": 67,
   "metadata": {},
   "outputs": [
    {
     "name": "stdout",
     "output_type": "stream",
     "text": [
      "person class constructor calling\n"
     ]
    }
   ],
   "source": [
    "std1 = Student()"
   ]
  },
  {
   "cell_type": "code",
   "execution_count": null,
   "metadata": {},
   "outputs": [],
   "source": []
  },
  {
   "cell_type": "code",
   "execution_count": 68,
   "metadata": {},
   "outputs": [],
   "source": [
    "class Person:\n",
    "    \n",
    "    def __init__(self):\n",
    "        print(\"person class constructor calling\")"
   ]
  },
  {
   "cell_type": "code",
   "execution_count": 69,
   "metadata": {},
   "outputs": [],
   "source": [
    "class Student(Person):\n",
    "    \n",
    "    def __init__(self):   # constructor overriding  --- override\n",
    "        pass"
   ]
  },
  {
   "cell_type": "code",
   "execution_count": 70,
   "metadata": {},
   "outputs": [],
   "source": [
    "std2 = Student()"
   ]
  },
  {
   "cell_type": "code",
   "execution_count": null,
   "metadata": {},
   "outputs": [],
   "source": []
  },
  {
   "cell_type": "code",
   "execution_count": 71,
   "metadata": {},
   "outputs": [],
   "source": [
    "class Person:\n",
    "    \n",
    "    def __init__(self):\n",
    "        print(\"person class constructor calling\")"
   ]
  },
  {
   "cell_type": "code",
   "execution_count": 72,
   "metadata": {},
   "outputs": [],
   "source": [
    "class Student(Person):\n",
    "    \n",
    "    def __init__(self):   # constructor overriding  --- override\n",
    "        print(\"student class constructor calling\")"
   ]
  },
  {
   "cell_type": "code",
   "execution_count": 73,
   "metadata": {},
   "outputs": [
    {
     "name": "stdout",
     "output_type": "stream",
     "text": [
      "student class constructor calling\n"
     ]
    }
   ],
   "source": [
    "std3 = Student()"
   ]
  },
  {
   "cell_type": "code",
   "execution_count": null,
   "metadata": {},
   "outputs": [],
   "source": []
  },
  {
   "cell_type": "code",
   "execution_count": 74,
   "metadata": {},
   "outputs": [],
   "source": [
    "class Person:\n",
    "    \n",
    "    def __init__(self):\n",
    "        print(\"person class constructor calling\")"
   ]
  },
  {
   "cell_type": "code",
   "execution_count": 75,
   "metadata": {},
   "outputs": [],
   "source": [
    "class Student(Person):\n",
    "    \n",
    "    def __init__(self):   # constructor extending  --- extend \n",
    "        Person.__init__(self)\n",
    "        print(\"student class constructor calling\")"
   ]
  },
  {
   "cell_type": "code",
   "execution_count": 76,
   "metadata": {},
   "outputs": [
    {
     "name": "stdout",
     "output_type": "stream",
     "text": [
      "person class constructor calling\n",
      "student class constructor calling\n"
     ]
    }
   ],
   "source": [
    "std4 = Student()"
   ]
  },
  {
   "cell_type": "code",
   "execution_count": null,
   "metadata": {},
   "outputs": [],
   "source": []
  },
  {
   "cell_type": "code",
   "execution_count": 77,
   "metadata": {},
   "outputs": [],
   "source": [
    "class Person:\n",
    "    \n",
    "    def __init__(self):\n",
    "        print(\"person class constructor calling\")\n",
    "        \n",
    "    def simple_method(self):\n",
    "        print(\"person class simple method\")"
   ]
  },
  {
   "cell_type": "code",
   "execution_count": 78,
   "metadata": {},
   "outputs": [],
   "source": [
    "class Student(Person):\n",
    "    \n",
    "    def __init__(self):   # constructor extending  --- extend \n",
    "        super().__init__()\n",
    "        print(\"student class constructor calling\")"
   ]
  },
  {
   "cell_type": "code",
   "execution_count": 79,
   "metadata": {},
   "outputs": [
    {
     "name": "stdout",
     "output_type": "stream",
     "text": [
      "person class constructor calling\n",
      "student class constructor calling\n"
     ]
    }
   ],
   "source": [
    "std5 = Student()"
   ]
  },
  {
   "cell_type": "code",
   "execution_count": 80,
   "metadata": {},
   "outputs": [
    {
     "name": "stdout",
     "output_type": "stream",
     "text": [
      "person class simple method\n"
     ]
    }
   ],
   "source": [
    "std5.simple_method()"
   ]
  },
  {
   "cell_type": "code",
   "execution_count": null,
   "metadata": {},
   "outputs": [],
   "source": []
  },
  {
   "cell_type": "code",
   "execution_count": 81,
   "metadata": {},
   "outputs": [],
   "source": [
    "class Person:\n",
    "    \n",
    "    def __init__(self, p_id, name, cnic, address):\n",
    "        self.id = p_id\n",
    "        self.name = name\n",
    "        self.cnic = cnic\n",
    "        self.address = address \n",
    "        \n",
    "    def display_info(self):\n",
    "        raise NotImplementedError(\"Not Implemented\")"
   ]
  },
  {
   "cell_type": "code",
   "execution_count": 82,
   "metadata": {},
   "outputs": [],
   "source": [
    "class Student(Person):\n",
    "    \n",
    "    def __init__(self, p_id, name, cnic, address, cgpa):\n",
    "        super().__init__(p_id, name, cnic, address)\n",
    "        self.cgpa = cgpa\n",
    "        \n",
    "    def display_info(self):\n",
    "        return f\"Name: {self.name}, CGPA: {self.cgpa}\""
   ]
  },
  {
   "cell_type": "code",
   "execution_count": 83,
   "metadata": {},
   "outputs": [],
   "source": [
    "student1 = Student(5, \"Ahmad\", \"33103-1234567-1\", \"Fsd\", 3.8)"
   ]
  },
  {
   "cell_type": "code",
   "execution_count": 84,
   "metadata": {},
   "outputs": [],
   "source": [
    "data = student1.display_info()"
   ]
  },
  {
   "cell_type": "code",
   "execution_count": 85,
   "metadata": {},
   "outputs": [
    {
     "name": "stdout",
     "output_type": "stream",
     "text": [
      "Name: Ahmad, CGPA: 3.8\n"
     ]
    }
   ],
   "source": [
    "print(data)"
   ]
  },
  {
   "cell_type": "code",
   "execution_count": null,
   "metadata": {},
   "outputs": [],
   "source": []
  },
  {
   "cell_type": "code",
   "execution_count": 86,
   "metadata": {},
   "outputs": [],
   "source": [
    "class Product:\n",
    "    \n",
    "    def __init__(self, name):\n",
    "        self.name = name\n",
    "        \n",
    "    def display(self):\n",
    "        pass"
   ]
  },
  {
   "cell_type": "code",
   "execution_count": 87,
   "metadata": {},
   "outputs": [],
   "source": [
    "class Prouction(Product):\n",
    "    \n",
    "    def __init__(self, name, price): \n",
    "        super().__init__(name)\n",
    "        self.price = price\n",
    "        \n",
    "    def display(self):\n",
    "        return f'Name: {self.name}, Price: {self.price}'"
   ]
  },
  {
   "cell_type": "code",
   "execution_count": 88,
   "metadata": {},
   "outputs": [],
   "source": [
    "p1 = Prouction(\"Laptop\", 90000)"
   ]
  },
  {
   "cell_type": "code",
   "execution_count": 89,
   "metadata": {},
   "outputs": [
    {
     "name": "stdout",
     "output_type": "stream",
     "text": [
      "True\n"
     ]
    }
   ],
   "source": [
    "print(isinstance(p1, Prouction))"
   ]
  },
  {
   "cell_type": "code",
   "execution_count": 90,
   "metadata": {},
   "outputs": [],
   "source": [
    "info = p1.display()"
   ]
  },
  {
   "cell_type": "code",
   "execution_count": 91,
   "metadata": {},
   "outputs": [
    {
     "name": "stdout",
     "output_type": "stream",
     "text": [
      "Name: Laptop, Price: 90000\n"
     ]
    }
   ],
   "source": [
    "print(info)"
   ]
  },
  {
   "cell_type": "code",
   "execution_count": null,
   "metadata": {},
   "outputs": [],
   "source": []
  },
  {
   "cell_type": "markdown",
   "metadata": {},
   "source": [
    "<b>Python Multiple Inheritance</b>"
   ]
  },
  {
   "cell_type": "markdown",
   "metadata": {},
   "source": [
    "A class can be derived from more than one base class in Python. This is called multiple inheritance."
   ]
  },
  {
   "cell_type": "markdown",
   "metadata": {},
   "source": [
    "In multiple inheritance, the features of all the base classes are inherited into the derived class."
   ]
  },
  {
   "cell_type": "code",
   "execution_count": 92,
   "metadata": {},
   "outputs": [],
   "source": [
    "class A:\n",
    "    pass"
   ]
  },
  {
   "cell_type": "code",
   "execution_count": 93,
   "metadata": {},
   "outputs": [],
   "source": [
    "class B(A):\n",
    "    pass"
   ]
  },
  {
   "cell_type": "code",
   "execution_count": 94,
   "metadata": {},
   "outputs": [],
   "source": [
    "class C(A):\n",
    "    pass"
   ]
  },
  {
   "cell_type": "code",
   "execution_count": 95,
   "metadata": {},
   "outputs": [],
   "source": [
    "class D(B, C):\n",
    "    pass"
   ]
  },
  {
   "cell_type": "markdown",
   "metadata": {},
   "source": [
    "The D class inherits from both B and C classes."
   ]
  },
  {
   "cell_type": "code",
   "execution_count": null,
   "metadata": {},
   "outputs": [],
   "source": []
  },
  {
   "cell_type": "markdown",
   "metadata": {},
   "source": [
    "<b>Method Resolution Order (MRO) in Python</b>"
   ]
  },
  {
   "cell_type": "markdown",
   "metadata": {},
   "source": [
    "Method Resolution Order (MRO) is the order in which Python looks for a method in a hierarchy of classes. Especially it plays vital role in the context of multiple inheritance as single method may be found in multiple super classes."
   ]
  },
  {
   "cell_type": "markdown",
   "metadata": {},
   "source": [
    "Every class in Python is derived from the <code>object</code> class. It is the most base type in Python.\n",
    "\n",
    "So technically, all other classes, either built-in or user-defined, are derived classes and all objects are instances of the <code>object</code> class."
   ]
  },
  {
   "cell_type": "code",
   "execution_count": 96,
   "metadata": {},
   "outputs": [
    {
     "name": "stdout",
     "output_type": "stream",
     "text": [
      "True\n"
     ]
    }
   ],
   "source": [
    "print(issubclass(int, object))"
   ]
  },
  {
   "cell_type": "code",
   "execution_count": 97,
   "metadata": {},
   "outputs": [
    {
     "name": "stdout",
     "output_type": "stream",
     "text": [
      "True\n"
     ]
    }
   ],
   "source": [
    "print(issubclass(str, object))"
   ]
  },
  {
   "cell_type": "code",
   "execution_count": 98,
   "metadata": {},
   "outputs": [
    {
     "name": "stdout",
     "output_type": "stream",
     "text": [
      "True\n"
     ]
    }
   ],
   "source": [
    "print(issubclass(list, object))"
   ]
  },
  {
   "cell_type": "code",
   "execution_count": 99,
   "metadata": {},
   "outputs": [
    {
     "name": "stdout",
     "output_type": "stream",
     "text": [
      "True\n"
     ]
    }
   ],
   "source": [
    "print(issubclass(float, object))"
   ]
  },
  {
   "cell_type": "markdown",
   "metadata": {},
   "source": [
    "In the multiple inheritance scenario, any specified attribute is searched first in the current class. If not found, the search continues into parent classes in depth-first, left-right fashion without searching the same class twice."
   ]
  },
  {
   "cell_type": "code",
   "execution_count": 100,
   "metadata": {},
   "outputs": [],
   "source": [
    "class BC1:\n",
    "    pass"
   ]
  },
  {
   "cell_type": "code",
   "execution_count": 101,
   "metadata": {},
   "outputs": [],
   "source": [
    "class BC2:\n",
    "    pass"
   ]
  },
  {
   "cell_type": "code",
   "execution_count": 102,
   "metadata": {},
   "outputs": [],
   "source": [
    "class DC(BC1, BC2):\n",
    "    pass"
   ]
  },
  {
   "cell_type": "markdown",
   "metadata": {},
   "source": [
    "So, in the above example of <code>DC</code> class the search order is [<code>DC, BC1, BC2, object</code>]. This order is also called linearization of <code>DC</code> class and the set of rules used to find this order is called <b>Method Resolution Order (MRO)</b>."
   ]
  },
  {
   "cell_type": "markdown",
   "metadata": {},
   "source": [
    "MRO must prevent local precedence ordering and also provide monotonicity. It ensures that a class always appears before its parents. In case of multiple parents, the order is the same as tuples of base classes."
   ]
  },
  {
   "cell_type": "markdown",
   "metadata": {},
   "source": [
    "MRO of a class can be viewed as the <code>__mro__</code> attribute or the <code>mro()</code> method. The former returns a tuple while the latter returns a list."
   ]
  },
  {
   "cell_type": "code",
   "execution_count": 103,
   "metadata": {},
   "outputs": [
    {
     "data": {
      "text/plain": [
       "(__main__.DC, __main__.BC1, __main__.BC2, object)"
      ]
     },
     "execution_count": 103,
     "metadata": {},
     "output_type": "execute_result"
    }
   ],
   "source": [
    "DC.__mro__"
   ]
  },
  {
   "cell_type": "code",
   "execution_count": 104,
   "metadata": {},
   "outputs": [
    {
     "data": {
      "text/plain": [
       "[__main__.DC, __main__.BC1, __main__.BC2, object]"
      ]
     },
     "execution_count": 104,
     "metadata": {},
     "output_type": "execute_result"
    }
   ],
   "source": [
    "DC.mro()"
   ]
  },
  {
   "cell_type": "code",
   "execution_count": null,
   "metadata": {},
   "outputs": [],
   "source": []
  },
  {
   "cell_type": "markdown",
   "metadata": {},
   "source": [
    "Here is a little more complex multiple inheritance example."
   ]
  },
  {
   "cell_type": "code",
   "execution_count": 105,
   "metadata": {},
   "outputs": [],
   "source": [
    "class X:\n",
    "    pass\n",
    "\n",
    "class Y:\n",
    "    pass\n",
    "\n",
    "class Z:\n",
    "    pass\n",
    "\n",
    "class A(X, Y):\n",
    "    pass\n",
    "\n",
    "class B(Y, Z):\n",
    "    pass\n",
    "\n",
    "class M(B, A, Z):\n",
    "    pass"
   ]
  },
  {
   "cell_type": "code",
   "execution_count": 106,
   "metadata": {},
   "outputs": [
    {
     "name": "stdout",
     "output_type": "stream",
     "text": [
      "[<class '__main__.M'>, <class '__main__.B'>, <class '__main__.A'>, <class '__main__.X'>, <class '__main__.Y'>, <class '__main__.Z'>, <class 'object'>]\n"
     ]
    }
   ],
   "source": [
    "print(M.mro())"
   ]
  },
  {
   "cell_type": "code",
   "execution_count": null,
   "metadata": {},
   "outputs": [],
   "source": []
  },
  {
   "cell_type": "code",
   "execution_count": 107,
   "metadata": {},
   "outputs": [],
   "source": [
    "class A:\n",
    "    def simple_method(self):\n",
    "        print('A simple_method')\n",
    "\n",
    "class B(A):\n",
    "    pass\n",
    "\n",
    "class C(A):\n",
    "    def simple_method(self):\n",
    "        print('C simple_method')\n",
    "\n",
    "class D(B, C):\n",
    "    pass"
   ]
  },
  {
   "cell_type": "code",
   "execution_count": 108,
   "metadata": {},
   "outputs": [],
   "source": [
    "obj = D()"
   ]
  },
  {
   "cell_type": "code",
   "execution_count": 109,
   "metadata": {},
   "outputs": [
    {
     "name": "stdout",
     "output_type": "stream",
     "text": [
      "C simple_method\n"
     ]
    }
   ],
   "source": [
    "obj.simple_method()"
   ]
  },
  {
   "cell_type": "code",
   "execution_count": 110,
   "metadata": {},
   "outputs": [
    {
     "data": {
      "text/plain": [
       "[__main__.D, __main__.B, __main__.C, __main__.A, object]"
      ]
     },
     "execution_count": 110,
     "metadata": {},
     "output_type": "execute_result"
    }
   ],
   "source": [
    "D.mro()"
   ]
  },
  {
   "cell_type": "code",
   "execution_count": null,
   "metadata": {},
   "outputs": [],
   "source": []
  },
  {
   "cell_type": "markdown",
   "metadata": {},
   "source": [
    "@mrizwanse"
   ]
  },
  {
   "cell_type": "markdown",
   "metadata": {},
   "source": [
    "### Happy Learning 😊"
   ]
  }
 ],
 "metadata": {
  "kernelspec": {
   "display_name": "Python 3",
   "language": "python",
   "name": "python3"
  },
  "language_info": {
   "codemirror_mode": {
    "name": "ipython",
    "version": 3
   },
   "file_extension": ".py",
   "mimetype": "text/x-python",
   "name": "python",
   "nbconvert_exporter": "python",
   "pygments_lexer": "ipython3",
   "version": "3.8.3"
  }
 },
 "nbformat": 4,
 "nbformat_minor": 4
}
